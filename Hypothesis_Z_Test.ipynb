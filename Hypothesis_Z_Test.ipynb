{
 "cells": [
  {
   "cell_type": "code",
   "execution_count": 23,
   "id": "f4cb005b-7bd9-4743-a498-6ebf9f81fbe7",
   "metadata": {},
   "outputs": [],
   "source": [
    "import numpy as np\n",
    "import pandas as pd\n",
    "import scipy.stats as st"
   ]
  },
  {
   "cell_type": "code",
   "execution_count": 32,
   "id": "684c1ded-294e-40f9-a110-b0c22d358d48",
   "metadata": {},
   "outputs": [
    {
     "data": {
      "text/plain": [
       "1.6448536269514722"
      ]
     },
     "execution_count": 32,
     "metadata": {},
     "output_type": "execute_result"
    }
   ],
   "source": [
    "z_table = st.norm.ppf(0.95)\n",
    "z_table"
   ]
  },
  {
   "cell_type": "code",
   "execution_count": 24,
   "id": "923b4f01-246c-4121-85e3-180b375a7bdf",
   "metadata": {},
   "outputs": [],
   "source": [
    "old_design = np.array([45.2,42.8,38.9,43.5,41.0,44.6,40.5,42.7,39.8,41.4,44.3,39.8,41.4,44.3,39.7,42.1,40.6,43.0,42.2,41.5,39.6,44.0,43.1,38.7,43.9,42.0,41.9,42.8,43.7,40.9,42.5,41.6])\n",
    "new_design = np.array([48.5,49.1,50.2,47.8,48.7,49.9,48.0,50.5,49.8,49.6,48.2,48.9,49.7,50.3,49.4,50.1,48.6,48.3,49.0,50.0,48.4,49.3,49.5,48.8,50.6,50.4,48.1,49.2,50.7,50.3,44.3,40.2])"
   ]
  },
  {
   "cell_type": "code",
   "execution_count": 25,
   "id": "44d94ee2-e74c-4583-a9a6-4b3bd9715d50",
   "metadata": {},
   "outputs": [],
   "source": [
    "pop_std = 2.5\n",
    "n_sp = 30\n",
    "alpha = 0.05"
   ]
  },
  {
   "cell_type": "code",
   "execution_count": 26,
   "id": "4d7e060c-17f9-4e55-a6df-469c1a215416",
   "metadata": {},
   "outputs": [
    {
     "data": {
      "text/plain": [
       "42.0"
      ]
     },
     "execution_count": 26,
     "metadata": {},
     "output_type": "execute_result"
    }
   ],
   "source": [
    "mean_old = np.mean(old_design)\n",
    "mean_new = np.mean(new_design)\n",
    "mean_old\n"
   ]
  },
  {
   "cell_type": "code",
   "execution_count": 27,
   "id": "0f216f69-386f-4fcf-a03c-fd211e7f6052",
   "metadata": {},
   "outputs": [
    {
     "data": {
      "text/plain": [
       "48.887499999999996"
      ]
     },
     "execution_count": 27,
     "metadata": {},
     "output_type": "execute_result"
    }
   ],
   "source": [
    "mean_new"
   ]
  },
  {
   "cell_type": "code",
   "execution_count": 33,
   "id": "7506a1af-f56a-427b-b8bf-b92dbd3d73b8",
   "metadata": {},
   "outputs": [
    {
     "data": {
      "text/plain": [
       "15.089756459267317"
      ]
     },
     "execution_count": 33,
     "metadata": {},
     "output_type": "execute_result"
    }
   ],
   "source": [
    "z_cal = (mean_new - mean_old)/(pop_std/np.sqrt(n_sp))\n",
    "z_cal"
   ]
  },
  {
   "cell_type": "code",
   "execution_count": 34,
   "id": "912f747e-cd82-4bf5-aac5-e25eb4fc522b",
   "metadata": {},
   "outputs": [
    {
     "name": "stdout",
     "output_type": "stream",
     "text": [
      "Reject H0\n"
     ]
    }
   ],
   "source": [
    "if z_cal > z_table:\n",
    "    print(\"Reject H0\")\n",
    "else:\n",
    "    print(\"Accept H0\")\n",
    "    "
   ]
  },
  {
   "cell_type": "code",
   "execution_count": null,
   "id": "068e614a-c511-46d9-86c0-73358ca9678e",
   "metadata": {},
   "outputs": [],
   "source": []
  }
 ],
 "metadata": {
  "kernelspec": {
   "display_name": "Python 3 (ipykernel)",
   "language": "python",
   "name": "python3"
  },
  "language_info": {
   "codemirror_mode": {
    "name": "ipython",
    "version": 3
   },
   "file_extension": ".py",
   "mimetype": "text/x-python",
   "name": "python",
   "nbconvert_exporter": "python",
   "pygments_lexer": "ipython3",
   "version": "3.12.4"
  }
 },
 "nbformat": 4,
 "nbformat_minor": 5
}
